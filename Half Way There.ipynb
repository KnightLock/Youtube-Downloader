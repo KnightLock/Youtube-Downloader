{
 "cells": [
  {
   "cell_type": "markdown",
   "metadata": {},
   "source": [
    "## Import the necessary Libraries"
   ]
  },
  {
   "cell_type": "code",
   "execution_count": 17,
   "metadata": {},
   "outputs": [],
   "source": [
    "from pytube import Playlist, YouTube\n",
    "import re\n",
    "import urllib.request\n",
    "from selenium import webdriver\n",
    "import time"
   ]
  },
  {
   "cell_type": "markdown",
   "metadata": {},
   "source": [
    "### Take user input"
   ]
  },
  {
   "cell_type": "code",
   "execution_count": 24,
   "metadata": {
    "scrolled": true
   },
   "outputs": [
    {
     "name": "stdout",
     "output_type": "stream",
     "text": [
      "Press 1 for single video and 2 for a playlist1\n"
     ]
    }
   ],
   "source": [
    "usr = int(input(\"Press 1 for single video and 2 for a playlist\"))\n",
    "flag = 0\n",
    "if(usr==1):\n",
    "    flag = 1  \n",
    "links_list = []"
   ]
  },
  {
   "cell_type": "code",
   "execution_count": 38,
   "metadata": {},
   "outputs": [
    {
     "name": "stdout",
     "output_type": "stream",
     "text": [
      "Paste the Link : https://www.youtube.com/watch?v=0yW7w8F2TVA&ab_channel=JamesAVEVO\n"
     ]
    }
   ],
   "source": [
    "if flag:\n",
    "    if(len(links_list)>0):\n",
    "        links_list.clear()\n",
    "    inp = \"https://en.savefrom.net/18/#url=\"+input(\"Paste the Link : \")\n",
    "    links_list.append(inp)\n",
    "else:\n",
    "    if(len(links_list)>0):\n",
    "        links_list.clear()\n",
    "    \n",
    "    inp = input(\"Paste the Link : \")\n",
    "    playlist = Playlist()\n",
    "    playlist._video_regex = re.compile(r\"\\\"url\\\":\\\"(/watch\\?v=[\\w-]*)\")\n",
    "    gate = \"https://en.savefrom.net/18/#url=\"\n",
    "    for vdo in playlist:\n",
    "        tmp = gate+vdo\n",
    "        links_list.append(tmp)"
   ]
  },
  {
   "cell_type": "code",
   "execution_count": 39,
   "metadata": {},
   "outputs": [
    {
     "name": "stdout",
     "output_type": "stream",
     "text": [
      "There are 1 videos in your playlist.\n"
     ]
    }
   ],
   "source": [
    "print(\"There are \"+str(len(links_list))+\" videos in your playlist.\")"
   ]
  },
  {
   "cell_type": "code",
   "execution_count": 42,
   "metadata": {},
   "outputs": [],
   "source": [
    "browser = webdriver.Chrome('E:\\Projects\\Youtube Downloader\\chromedriver.exe')\n",
    "for src in links_list:\n",
    "    browser.get(src)\n",
    "    time.sleep(10)\n",
    "    ele = browser.find_element_by_link_text('Download')\n",
    "    ele.get_attribute('href')\n",
    "    ele.click()\n",
    "    if not flag:\n",
    "        time.sleep(100)"
   ]
  }
 ],
 "metadata": {
  "kernelspec": {
   "display_name": "Python 3",
   "language": "python",
   "name": "python3"
  },
  "language_info": {
   "codemirror_mode": {
    "name": "ipython",
    "version": 3
   },
   "file_extension": ".py",
   "mimetype": "text/x-python",
   "name": "python",
   "nbconvert_exporter": "python",
   "pygments_lexer": "ipython3",
   "version": "3.8.3"
  }
 },
 "nbformat": 4,
 "nbformat_minor": 4
}
